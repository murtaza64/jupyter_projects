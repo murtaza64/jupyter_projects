{
 "cells": [
  {
   "cell_type": "markdown",
   "metadata": {},
   "source": [
    "# Elevator Acceleration Experiment\n",
    "\n",
    "On Thursday 2016-10-20, I tracked the acceleration in a Dubai Mall elevator by placing a Samsung Galaxy S6 flat on the floor and using the onboard accelerometer, with the help of the SparkVue app, logged the acceleration in the Z axis data for 12 seconds at 500 Hz. The data is stored in csv format, and I have sliced off the final few seconds where I was picking up my phone and discarded all the irrelevant columns, keeping only time and acceleration in z axis."
   ]
  },
  {
   "cell_type": "markdown",
   "metadata": {},
   "source": [
    "## Libraries\n",
    "I will be using pandas and plotly to analyze this data on python 3.5 (matplotlib graphs exist but have been commented out)."
   ]
  },
  {
   "cell_type": "code",
   "execution_count": 1,
   "metadata": {
    "collapsed": false
   },
   "outputs": [],
   "source": [
    "import pandas as pd\n",
    "import numpy as np\n",
    "\n",
    "import matplotlib.pyplot as plt\n",
    "import plotly.plotly as py\n",
    "import plotly.graph_objs as go\n",
    "\n",
    "%matplotlib inline"
   ]
  },
  {
   "cell_type": "markdown",
   "metadata": {},
   "source": [
    "## Importing data\n",
    "The data will be loaded from the csv file. The first five rows of a ~6000 row table:"
   ]
  },
  {
   "cell_type": "code",
   "execution_count": 2,
   "metadata": {
    "collapsed": false
   },
   "outputs": [
    {
     "data": {
      "text/html": [
       "<div>\n",
       "<table border=\"1\" class=\"dataframe\">\n",
       "  <thead>\n",
       "    <tr style=\"text-align: right;\">\n",
       "      <th></th>\n",
       "      <th>time</th>\n",
       "      <th>acceleration</th>\n",
       "    </tr>\n",
       "  </thead>\n",
       "  <tbody>\n",
       "    <tr>\n",
       "      <th>0</th>\n",
       "      <td>0.000</td>\n",
       "      <td>9.8</td>\n",
       "    </tr>\n",
       "    <tr>\n",
       "      <th>1</th>\n",
       "      <td>0.002</td>\n",
       "      <td>9.8</td>\n",
       "    </tr>\n",
       "    <tr>\n",
       "      <th>2</th>\n",
       "      <td>0.004</td>\n",
       "      <td>9.8</td>\n",
       "    </tr>\n",
       "    <tr>\n",
       "      <th>3</th>\n",
       "      <td>0.006</td>\n",
       "      <td>9.8</td>\n",
       "    </tr>\n",
       "    <tr>\n",
       "      <th>4</th>\n",
       "      <td>0.008</td>\n",
       "      <td>9.8</td>\n",
       "    </tr>\n",
       "  </tbody>\n",
       "</table>\n",
       "</div>"
      ],
      "text/plain": [
       "    time  acceleration\n",
       "0  0.000           9.8\n",
       "1  0.002           9.8\n",
       "2  0.004           9.8\n",
       "3  0.006           9.8\n",
       "4  0.008           9.8"
      ]
     },
     "execution_count": 2,
     "metadata": {},
     "output_type": "execute_result"
    }
   ],
   "source": [
    "df = pd.read_csv('elevator.csv')\n",
    "df.head()"
   ]
  },
  {
   "cell_type": "markdown",
   "metadata": {},
   "source": [
    "## Raw acceleration against time\n",
    "The raw vertical acceleration measured by the phone can be plotted against time straight away."
   ]
  },
  {
   "cell_type": "code",
   "execution_count": 3,
   "metadata": {
    "collapsed": false
   },
   "outputs": [
    {
     "data": {
      "text/html": [
       "<iframe id=\"igraph\" scrolling=\"no\" style=\"border:none;\" seamless=\"seamless\" src=\"https://plot.ly/~murtaza64/25.embed\" height=\"525px\" width=\"100%\"></iframe>"
      ],
      "text/plain": [
       "<plotly.tools.PlotlyDisplay object>"
      ]
     },
     "execution_count": 3,
     "metadata": {},
     "output_type": "execute_result"
    }
   ],
   "source": [
    "#accel_time = df.set_index('time')\n",
    "#accel_plot = accel_time.plot(kind = 'line', legend = None, title = 'Acceleration against time in elevator')\n",
    "#accel_plot.set_xlabel('Time (s)')\n",
    "#accel_plot.set_ylabel('Acceleration (ms^-2)')\n",
    "\n",
    "acc_time = [\n",
    "    go.Scatter(\n",
    "        x=df['time'], # assign x as the dataframe column 'x'\n",
    "        y=df['acceleration']\n",
    "    )\n",
    "]\n",
    "\n",
    "acc_time_layout = go.Layout(\n",
    "    title='acceleration against time',\n",
    "    yaxis=dict(title='acceleration (ms^-2)'),\n",
    "    xaxis=dict(title='time (s)')\n",
    ")\n",
    "\n",
    "acc_time_fig = go.Figure(data = acc_time, layout = acc_time_layout)\n",
    "py.iplot(acc_time_fig)"
   ]
  },
  {
   "cell_type": "markdown",
   "metadata": {},
   "source": [
    "With this plot, a limitation is shown of the data, namely that only .1 ms^-2 of accuracy has been measured to. Also, it is demonstrated that the resting acceleration of ~ 9.8 ms^-2 must be subtracted from the data."
   ]
  },
  {
   "cell_type": "markdown",
   "metadata": {},
   "source": [
    "## Subtracting relative acceleration\n",
    "The mean of the raw acceleration in the first 2.5 seconds of the data is taken and subtracted from all of the acceleration values to give relative acceleration which can then be plotted against time."
   ]
  },
  {
   "cell_type": "code",
   "execution_count": 4,
   "metadata": {
    "collapsed": false
   },
   "outputs": [
    {
     "data": {
      "text/html": [
       "<div>\n",
       "<table border=\"1\" class=\"dataframe\">\n",
       "  <thead>\n",
       "    <tr style=\"text-align: right;\">\n",
       "      <th></th>\n",
       "      <th>time</th>\n",
       "      <th>acceleration</th>\n",
       "      <th>relative acceleration</th>\n",
       "    </tr>\n",
       "  </thead>\n",
       "  <tbody>\n",
       "    <tr>\n",
       "      <th>0</th>\n",
       "      <td>0.000</td>\n",
       "      <td>9.8</td>\n",
       "      <td>-0.009912</td>\n",
       "    </tr>\n",
       "    <tr>\n",
       "      <th>1</th>\n",
       "      <td>0.002</td>\n",
       "      <td>9.8</td>\n",
       "      <td>-0.009912</td>\n",
       "    </tr>\n",
       "    <tr>\n",
       "      <th>2</th>\n",
       "      <td>0.004</td>\n",
       "      <td>9.8</td>\n",
       "      <td>-0.009912</td>\n",
       "    </tr>\n",
       "    <tr>\n",
       "      <th>3</th>\n",
       "      <td>0.006</td>\n",
       "      <td>9.8</td>\n",
       "      <td>-0.009912</td>\n",
       "    </tr>\n",
       "    <tr>\n",
       "      <th>4</th>\n",
       "      <td>0.008</td>\n",
       "      <td>9.8</td>\n",
       "      <td>-0.009912</td>\n",
       "    </tr>\n",
       "  </tbody>\n",
       "</table>\n",
       "</div>"
      ],
      "text/plain": [
       "    time  acceleration  relative acceleration\n",
       "0  0.000           9.8              -0.009912\n",
       "1  0.002           9.8              -0.009912\n",
       "2  0.004           9.8              -0.009912\n",
       "3  0.006           9.8              -0.009912\n",
       "4  0.008           9.8              -0.009912"
      ]
     },
     "execution_count": 4,
     "metadata": {},
     "output_type": "execute_result"
    }
   ],
   "source": [
    "resting_accel = df.loc[df['time'] <= 2.5]['acceleration'].mean()\n",
    "df['relative acceleration'] = df.apply(lambda row: row['acceleration'] - resting_accel, axis = 1)\n",
    "df.head()"
   ]
  },
  {
   "cell_type": "code",
   "execution_count": 5,
   "metadata": {
    "collapsed": false,
    "scrolled": false
   },
   "outputs": [
    {
     "data": {
      "text/html": [
       "<iframe id=\"igraph\" scrolling=\"no\" style=\"border:none;\" seamless=\"seamless\" src=\"https://plot.ly/~murtaza64/27.embed\" height=\"525px\" width=\"100%\"></iframe>"
      ],
      "text/plain": [
       "<plotly.tools.PlotlyDisplay object>"
      ]
     },
     "execution_count": 5,
     "metadata": {},
     "output_type": "execute_result"
    }
   ],
   "source": [
    "#rel_accel_time = df[['time','relative acceleration']].set_index('time')\n",
    "#rel_accel_plot = rel_accel_time.plot(kind = 'line', legend = None, title = 'Relative acceleration against time in elevator')\n",
    "#rel_accel_plot.set_xlabel('Time (s)')\n",
    "#rel_accel_plot.set_ylabel('Acceleration (ms^-2)')\n",
    "\n",
    "rel_acc_time = [\n",
    "    go.Scatter(\n",
    "        x=df['time'], # assign x as the dataframe column 'x'\n",
    "        y=df['relative acceleration']\n",
    "    )\n",
    "]\n",
    "\n",
    "rel_acc_time_layout = go.Layout(\n",
    "    title='relative acceleration against time',\n",
    "    yaxis=dict(title='acceleration (ms^-2)'),\n",
    "    xaxis=dict(title='time (s)')\n",
    ")\n",
    "\n",
    "rel_acc_time_fig = go.Figure(data = rel_acc_time, layout = rel_acc_time_layout)\n",
    "py.iplot(rel_acc_time_fig)"
   ]
  },
  {
   "cell_type": "code",
   "execution_count": 9,
   "metadata": {
    "collapsed": false
   },
   "outputs": [
    {
     "name": "stdout",
     "output_type": "stream",
     "text": [
      "max accel: 0.606657130436\n",
      "max decel: -0.596169380285\n"
     ]
    }
   ],
   "source": [
    "max_accel = df.query('4.5 <= time <= 6.55')['relative acceleration'].mean()\n",
    "max_decel = df.query('8.9 <= time <= 10.95')['relative acceleration'].mean()\n",
    "print('max accel:', max_accel)\n",
    "print('max decel:', max_decel)"
   ]
  },
  {
   "cell_type": "markdown",
   "metadata": {},
   "source": [
    "Now we can see that the elevator acceleration reaches a maximum of ~ 0.61 ms^-2, and a maximum deceleration of ~ -0.60 ms^-2.\n",
    "\n",
    "## Velocity\n",
    "Finally, we can approximate the velocity by taking the cumulative sum of the relative acceleration multiplied by the time gap between readings, and then plot this."
   ]
  },
  {
   "cell_type": "code",
   "execution_count": 10,
   "metadata": {
    "collapsed": false
   },
   "outputs": [
    {
     "data": {
      "text/html": [
       "<div>\n",
       "<table border=\"1\" class=\"dataframe\">\n",
       "  <thead>\n",
       "    <tr style=\"text-align: right;\">\n",
       "      <th></th>\n",
       "      <th>time</th>\n",
       "      <th>acceleration</th>\n",
       "      <th>relative acceleration</th>\n",
       "      <th>velocity</th>\n",
       "    </tr>\n",
       "  </thead>\n",
       "  <tbody>\n",
       "    <tr>\n",
       "      <th>0</th>\n",
       "      <td>0.000</td>\n",
       "      <td>9.8</td>\n",
       "      <td>-0.009912</td>\n",
       "      <td>-0.000000</td>\n",
       "    </tr>\n",
       "    <tr>\n",
       "      <th>1</th>\n",
       "      <td>0.002</td>\n",
       "      <td>9.8</td>\n",
       "      <td>-0.009912</td>\n",
       "      <td>-0.000020</td>\n",
       "    </tr>\n",
       "    <tr>\n",
       "      <th>2</th>\n",
       "      <td>0.004</td>\n",
       "      <td>9.8</td>\n",
       "      <td>-0.009912</td>\n",
       "      <td>-0.000040</td>\n",
       "    </tr>\n",
       "    <tr>\n",
       "      <th>3</th>\n",
       "      <td>0.006</td>\n",
       "      <td>9.8</td>\n",
       "      <td>-0.009912</td>\n",
       "      <td>-0.000059</td>\n",
       "    </tr>\n",
       "    <tr>\n",
       "      <th>4</th>\n",
       "      <td>0.008</td>\n",
       "      <td>9.8</td>\n",
       "      <td>-0.009912</td>\n",
       "      <td>-0.000079</td>\n",
       "    </tr>\n",
       "  </tbody>\n",
       "</table>\n",
       "</div>"
      ],
      "text/plain": [
       "    time  acceleration  relative acceleration  velocity\n",
       "0  0.000           9.8              -0.009912 -0.000000\n",
       "1  0.002           9.8              -0.009912 -0.000020\n",
       "2  0.004           9.8              -0.009912 -0.000040\n",
       "3  0.006           9.8              -0.009912 -0.000059\n",
       "4  0.008           9.8              -0.009912 -0.000079"
      ]
     },
     "execution_count": 10,
     "metadata": {},
     "output_type": "execute_result"
    }
   ],
   "source": [
    "df['velocity'] = (df['time'].diff().fillna(0) * df['relative acceleration']).cumsum()\n",
    "df.head()"
   ]
  },
  {
   "cell_type": "code",
   "execution_count": 11,
   "metadata": {
    "collapsed": false,
    "scrolled": false
   },
   "outputs": [
    {
     "data": {
      "text/html": [
       "<iframe id=\"igraph\" scrolling=\"no\" style=\"border:none;\" seamless=\"seamless\" src=\"https://plot.ly/~murtaza64/29.embed\" height=\"525px\" width=\"100%\"></iframe>"
      ],
      "text/plain": [
       "<plotly.tools.PlotlyDisplay object>"
      ]
     },
     "execution_count": 11,
     "metadata": {},
     "output_type": "execute_result"
    }
   ],
   "source": [
    "#vel_time = df[['time','velocity']].set_index('time')\n",
    "#vel_plot = vel_time.plot(kind = 'line', legend = None, title = 'Velocity against time in elevator')\n",
    "#vel_plot.set_xlabel('Time (s)')\n",
    "#vel_plot.set_ylabel('Velocity (ms^-1)')\n",
    "\n",
    "vel_time = [\n",
    "    go.Scatter(\n",
    "        x=df['time'], # assign x as the dataframe column 'x'\n",
    "        y=df['velocity']\n",
    "    )\n",
    "]\n",
    "\n",
    "vel_time_layout = go.Layout(\n",
    "    title='relative acceleration against time',\n",
    "    yaxis=dict(title='velocity (ms^-1)'),\n",
    "    xaxis=dict(title='time (s)')\n",
    ")\n",
    "\n",
    "vel_time_fig = go.Figure(data = vel_time, layout = vel_time_layout)\n",
    "py.iplot(vel_time_fig)"
   ]
  },
  {
   "cell_type": "code",
   "execution_count": 12,
   "metadata": {
    "collapsed": false
   },
   "outputs": [
    {
     "name": "stdout",
     "output_type": "stream",
     "text": [
      "max velocity: 1.63212853717\n"
     ]
    }
   ],
   "source": [
    "print('max velocity:', df['velocity'].max())"
   ]
  },
  {
   "cell_type": "markdown",
   "metadata": {},
   "source": [
    "The velocity seems to peak at 1.63 ms^-1 in this elevator. However, as demonstrated by the fact that the velocity doesn't reach 0 at the end of the journey, this dataset is not very accurate, mostly due to the poor accuracy of the Galaxy S6's onboard accelerometer. This is very likely the reason for the failure to calculate an accurate velocity for the journey.\n",
    "\n",
    "Regardless, this has been an interesting exercise in datalogging and analysis of data using Python."
   ]
  }
 ],
 "metadata": {
  "kernelspec": {
   "display_name": "Python 3",
   "language": "python",
   "name": "python3"
  },
  "language_info": {
   "codemirror_mode": {
    "name": "ipython",
    "version": 3
   },
   "file_extension": ".py",
   "mimetype": "text/x-python",
   "name": "python",
   "nbconvert_exporter": "python",
   "pygments_lexer": "ipython3",
   "version": "3.5.1"
  }
 },
 "nbformat": 4,
 "nbformat_minor": 1
}
