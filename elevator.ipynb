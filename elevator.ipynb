{
 "cells": [
  {
   "cell_type": "markdown",
   "metadata": {},
   "source": [
    "# Elevator Acceleration Experiment\n",
    "\n",
    "**Update 2016-10-23**\n",
    "Scroll to bottom for more experiments (without commentary)\n",
    "\n",
    "On Thursday 2016-10-20, I tracked the acceleration in a Dubai Mall elevator by placing a Samsung Galaxy S6 flat on the floor and using the onboard accelerometer, with the help of the SparkVue app, logged the acceleration in the Z axis data for 12 seconds at 500 Hz. The data is stored in csv format, and I have sliced off the final few seconds where I was picking up my phone and discarded all the irrelevant columns, keeping only time and acceleration in z axis."
   ]
  },
  {
   "cell_type": "markdown",
   "metadata": {},
   "source": [
    "## Libraries\n",
    "I will be using pandas and plotly to analyze this data on python 3.5 (matplotlib graphs exist but have been commented out)."
   ]
  },
  {
   "cell_type": "code",
   "execution_count": 1,
   "metadata": {
    "collapsed": false
   },
   "outputs": [],
   "source": [
    "import pandas as pd\n",
    "import numpy as np\n",
    "\n",
    "import matplotlib.pyplot as plt\n",
    "import plotly.plotly as py\n",
    "import plotly.graph_objs as go\n",
    "\n",
    "%matplotlib inline"
   ]
  },
  {
   "cell_type": "markdown",
   "metadata": {},
   "source": [
    "## Importing data\n",
    "The data will be loaded from the csv file. The first five rows of a ~6000 row table:"
   ]
  },
  {
   "cell_type": "code",
   "execution_count": 2,
   "metadata": {
    "collapsed": false,
    "scrolled": false
   },
   "outputs": [
    {
     "data": {
      "text/html": [
       "<div>\n",
       "<table border=\"1\" class=\"dataframe\">\n",
       "  <thead>\n",
       "    <tr style=\"text-align: right;\">\n",
       "      <th></th>\n",
       "      <th>time</th>\n",
       "      <th>acceleration</th>\n",
       "    </tr>\n",
       "  </thead>\n",
       "  <tbody>\n",
       "    <tr>\n",
       "      <th>0</th>\n",
       "      <td>0.000</td>\n",
       "      <td>9.8</td>\n",
       "    </tr>\n",
       "    <tr>\n",
       "      <th>1</th>\n",
       "      <td>0.002</td>\n",
       "      <td>9.8</td>\n",
       "    </tr>\n",
       "    <tr>\n",
       "      <th>2</th>\n",
       "      <td>0.004</td>\n",
       "      <td>9.8</td>\n",
       "    </tr>\n",
       "    <tr>\n",
       "      <th>3</th>\n",
       "      <td>0.006</td>\n",
       "      <td>9.8</td>\n",
       "    </tr>\n",
       "    <tr>\n",
       "      <th>4</th>\n",
       "      <td>0.008</td>\n",
       "      <td>9.8</td>\n",
       "    </tr>\n",
       "  </tbody>\n",
       "</table>\n",
       "</div>"
      ],
      "text/plain": [
       "    time  acceleration\n",
       "0  0.000           9.8\n",
       "1  0.002           9.8\n",
       "2  0.004           9.8\n",
       "3  0.006           9.8\n",
       "4  0.008           9.8"
      ]
     },
     "execution_count": 2,
     "metadata": {},
     "output_type": "execute_result"
    }
   ],
   "source": [
    "df = pd.read_csv('elevator.csv')\n",
    "df.head()"
   ]
  },
  {
   "cell_type": "markdown",
   "metadata": {},
   "source": [
    "## Raw acceleration against time\n",
    "The raw vertical acceleration measured by the phone can be plotted against time straight away."
   ]
  },
  {
   "cell_type": "code",
   "execution_count": 3,
   "metadata": {
    "collapsed": true
   },
   "outputs": [],
   "source": [
    "def graph_single(title, df, x, y, x_label, y_label):\n",
    "    data = [\n",
    "        go.Scatter(\n",
    "            x = df[x],\n",
    "            y = df[y]\n",
    "        )\n",
    "    ]\n",
    "\n",
    "    layout = go.Layout(\n",
    "        title = title,\n",
    "        yaxis = dict(title = y_label),\n",
    "        xaxis = dict(title = x_label)\n",
    "    )\n",
    "\n",
    "    fig = go.Figure(data = data, layout = layout)\n",
    "    return py.iplot(fig)"
   ]
  },
  {
   "cell_type": "code",
   "execution_count": 4,
   "metadata": {
    "collapsed": false
   },
   "outputs": [
    {
     "data": {
      "text/html": [
       "<iframe id=\"igraph\" scrolling=\"no\" style=\"border:none;\" seamless=\"seamless\" src=\"https://plot.ly/~murtaza64/145.embed\" height=\"525px\" width=\"100%\"></iframe>"
      ],
      "text/plain": [
       "<plotly.tools.PlotlyDisplay object>"
      ]
     },
     "execution_count": 4,
     "metadata": {},
     "output_type": "execute_result"
    }
   ],
   "source": [
    "#accel_time = df.set_index('time')\n",
    "#accel_plot = accel_time.plot(kind = 'line', legend = None, title = 'Acceleration against time in elevator')\n",
    "#accel_plot.set_xlabel('Time (s)')\n",
    "#accel_plot.set_ylabel('Acceleration (ms^-2)')\n",
    "\n",
    "graph_single('acceleration in elevator', df, \\\n",
    "             'time', 'acceleration', 'time (s)', 'acceleration (ms^-2)')"
   ]
  },
  {
   "cell_type": "markdown",
   "metadata": {},
   "source": [
    "With this plot, a limitation is shown of the data, namely that only .1 ms^-2 of accuracy has been measured to. Also, it is demonstrated that the resting acceleration of ~ 9.8 ms^-2 must be subtracted from the data."
   ]
  },
  {
   "cell_type": "markdown",
   "metadata": {},
   "source": [
    "## Subtracting rest acceleration\n",
    "The mean of the raw acceleration in the first 2.5 seconds of the data is taken and subtracted from all of the acceleration values to give relative acceleration which can then be plotted against time."
   ]
  },
  {
   "cell_type": "code",
   "execution_count": 5,
   "metadata": {
    "collapsed": false
   },
   "outputs": [
    {
     "data": {
      "text/html": [
       "<div>\n",
       "<table border=\"1\" class=\"dataframe\">\n",
       "  <thead>\n",
       "    <tr style=\"text-align: right;\">\n",
       "      <th></th>\n",
       "      <th>time</th>\n",
       "      <th>acceleration</th>\n",
       "      <th>relative acceleration</th>\n",
       "    </tr>\n",
       "  </thead>\n",
       "  <tbody>\n",
       "    <tr>\n",
       "      <th>0</th>\n",
       "      <td>0.000</td>\n",
       "      <td>9.8</td>\n",
       "      <td>-0.009912</td>\n",
       "    </tr>\n",
       "    <tr>\n",
       "      <th>1</th>\n",
       "      <td>0.002</td>\n",
       "      <td>9.8</td>\n",
       "      <td>-0.009912</td>\n",
       "    </tr>\n",
       "    <tr>\n",
       "      <th>2</th>\n",
       "      <td>0.004</td>\n",
       "      <td>9.8</td>\n",
       "      <td>-0.009912</td>\n",
       "    </tr>\n",
       "    <tr>\n",
       "      <th>3</th>\n",
       "      <td>0.006</td>\n",
       "      <td>9.8</td>\n",
       "      <td>-0.009912</td>\n",
       "    </tr>\n",
       "    <tr>\n",
       "      <th>4</th>\n",
       "      <td>0.008</td>\n",
       "      <td>9.8</td>\n",
       "      <td>-0.009912</td>\n",
       "    </tr>\n",
       "  </tbody>\n",
       "</table>\n",
       "</div>"
      ],
      "text/plain": [
       "    time  acceleration  relative acceleration\n",
       "0  0.000           9.8              -0.009912\n",
       "1  0.002           9.8              -0.009912\n",
       "2  0.004           9.8              -0.009912\n",
       "3  0.006           9.8              -0.009912\n",
       "4  0.008           9.8              -0.009912"
      ]
     },
     "execution_count": 5,
     "metadata": {},
     "output_type": "execute_result"
    }
   ],
   "source": [
    "df['relative acceleration'] = df['acceleration'] - df.query('time <= 2.5')['acceleration'].mean()\n",
    "df.head()"
   ]
  },
  {
   "cell_type": "code",
   "execution_count": 6,
   "metadata": {
    "collapsed": false,
    "scrolled": false
   },
   "outputs": [
    {
     "data": {
      "text/html": [
       "<iframe id=\"igraph\" scrolling=\"no\" style=\"border:none;\" seamless=\"seamless\" src=\"https://plot.ly/~murtaza64/147.embed\" height=\"525px\" width=\"100%\"></iframe>"
      ],
      "text/plain": [
       "<plotly.tools.PlotlyDisplay object>"
      ]
     },
     "execution_count": 6,
     "metadata": {},
     "output_type": "execute_result"
    }
   ],
   "source": [
    "#rel_accel_time = df[['time','relative acceleration']].set_index('time')\n",
    "#rel_accel_plot = rel_accel_time.plot(kind = 'line', legend = None, title = 'Relative acceleration against time in elevator')\n",
    "#rel_accel_plot.set_xlabel('Time (s)')\n",
    "#rel_accel_plot.set_ylabel('Acceleration (ms^-2)')\n",
    "\n",
    "\n",
    "graph_single('relative acceleration in elevator', df, \\\n",
    "             'time', 'acceleration', 'time (s)', 'acceleration (ms^-2)')"
   ]
  },
  {
   "cell_type": "code",
   "execution_count": 7,
   "metadata": {
    "collapsed": false
   },
   "outputs": [
    {
     "name": "stdout",
     "output_type": "stream",
     "text": [
      "max accel: 0.606657130436\n",
      "max decel: -0.596169380285\n"
     ]
    }
   ],
   "source": [
    "max_accel = df.query('4.5 <= time <= 6.55')['relative acceleration'].mean()\n",
    "max_decel = df.query('8.9 <= time <= 10.95')['relative acceleration'].mean()\n",
    "print('max accel:', max_accel)\n",
    "print('max decel:', max_decel)"
   ]
  },
  {
   "cell_type": "markdown",
   "metadata": {},
   "source": [
    "Now we can see that the elevator acceleration reaches a maximum of ~ 0.61 ms^-2, and a maximum deceleration of ~ -0.60 ms^-2.\n",
    "\n",
    "## Velocity\n",
    "Finally, we can approximate the velocity by taking the cumulative sum of the relative acceleration multiplied by the time gap between readings, and then plot this."
   ]
  },
  {
   "cell_type": "code",
   "execution_count": 8,
   "metadata": {
    "collapsed": false
   },
   "outputs": [
    {
     "data": {
      "text/html": [
       "<div>\n",
       "<table border=\"1\" class=\"dataframe\">\n",
       "  <thead>\n",
       "    <tr style=\"text-align: right;\">\n",
       "      <th></th>\n",
       "      <th>time</th>\n",
       "      <th>acceleration</th>\n",
       "      <th>relative acceleration</th>\n",
       "      <th>velocity</th>\n",
       "    </tr>\n",
       "  </thead>\n",
       "  <tbody>\n",
       "    <tr>\n",
       "      <th>0</th>\n",
       "      <td>0.000</td>\n",
       "      <td>9.8</td>\n",
       "      <td>-0.009912</td>\n",
       "      <td>-0.000000</td>\n",
       "    </tr>\n",
       "    <tr>\n",
       "      <th>1</th>\n",
       "      <td>0.002</td>\n",
       "      <td>9.8</td>\n",
       "      <td>-0.009912</td>\n",
       "      <td>-0.000020</td>\n",
       "    </tr>\n",
       "    <tr>\n",
       "      <th>2</th>\n",
       "      <td>0.004</td>\n",
       "      <td>9.8</td>\n",
       "      <td>-0.009912</td>\n",
       "      <td>-0.000040</td>\n",
       "    </tr>\n",
       "    <tr>\n",
       "      <th>3</th>\n",
       "      <td>0.006</td>\n",
       "      <td>9.8</td>\n",
       "      <td>-0.009912</td>\n",
       "      <td>-0.000059</td>\n",
       "    </tr>\n",
       "    <tr>\n",
       "      <th>4</th>\n",
       "      <td>0.008</td>\n",
       "      <td>9.8</td>\n",
       "      <td>-0.009912</td>\n",
       "      <td>-0.000079</td>\n",
       "    </tr>\n",
       "  </tbody>\n",
       "</table>\n",
       "</div>"
      ],
      "text/plain": [
       "    time  acceleration  relative acceleration  velocity\n",
       "0  0.000           9.8              -0.009912 -0.000000\n",
       "1  0.002           9.8              -0.009912 -0.000020\n",
       "2  0.004           9.8              -0.009912 -0.000040\n",
       "3  0.006           9.8              -0.009912 -0.000059\n",
       "4  0.008           9.8              -0.009912 -0.000079"
      ]
     },
     "execution_count": 8,
     "metadata": {},
     "output_type": "execute_result"
    }
   ],
   "source": [
    "df['velocity'] = (df['time'].diff().fillna(0) * df['relative acceleration']).cumsum()\n",
    "df.head()"
   ]
  },
  {
   "cell_type": "code",
   "execution_count": 9,
   "metadata": {
    "collapsed": false,
    "scrolled": false
   },
   "outputs": [
    {
     "data": {
      "text/html": [
       "<iframe id=\"igraph\" scrolling=\"no\" style=\"border:none;\" seamless=\"seamless\" src=\"https://plot.ly/~murtaza64/149.embed\" height=\"525px\" width=\"100%\"></iframe>"
      ],
      "text/plain": [
       "<plotly.tools.PlotlyDisplay object>"
      ]
     },
     "execution_count": 9,
     "metadata": {},
     "output_type": "execute_result"
    }
   ],
   "source": [
    "#vel_time = df[['time','velocity']].set_index('time')\n",
    "#vel_plot = vel_time.plot(kind = 'line', legend = None, title = 'Velocity against time in elevator')\n",
    "#vel_plot.set_xlabel('Time (s)')\n",
    "#vel_plot.set_ylabel('Velocity (ms^-1)')\n",
    "\n",
    "graph_single('velocity against time in an elevator', df, \\\n",
    "             'time', 'velocity', 'time (s)', 'velocity (ms^-1)')"
   ]
  },
  {
   "cell_type": "code",
   "execution_count": 10,
   "metadata": {
    "collapsed": false
   },
   "outputs": [
    {
     "name": "stdout",
     "output_type": "stream",
     "text": [
      "max velocity: 1.63212853717\n"
     ]
    }
   ],
   "source": [
    "print('max velocity:', df['velocity'].max())"
   ]
  },
  {
   "cell_type": "markdown",
   "metadata": {},
   "source": [
    "The velocity seems to peak at 1.63 ms^-1 in this elevator. However, as demonstrated by the fact that the velocity doesn't reach 0 at the end of the journey, this dataset is not very accurate, mostly due to the poor accuracy of the Galaxy S6's onboard accelerometer. This is very likely the reason for the failure to calculate an accurate velocity for the journey.\n",
    "\n",
    "Regardless, this has been an interesting exercise in datalogging and analysis of data using Python."
   ]
  },
  {
   "cell_type": "code",
   "execution_count": 11,
   "metadata": {
    "collapsed": false
   },
   "outputs": [
    {
     "data": {
      "text/html": [
       "<div>\n",
       "<table border=\"1\" class=\"dataframe\">\n",
       "  <thead>\n",
       "    <tr style=\"text-align: right;\">\n",
       "      <th></th>\n",
       "      <th>time</th>\n",
       "      <th>z</th>\n",
       "    </tr>\n",
       "  </thead>\n",
       "  <tbody>\n",
       "    <tr>\n",
       "      <th>0</th>\n",
       "      <td>0.011</td>\n",
       "      <td>-0.01</td>\n",
       "    </tr>\n",
       "    <tr>\n",
       "      <th>1</th>\n",
       "      <td>0.012</td>\n",
       "      <td>-0.01</td>\n",
       "    </tr>\n",
       "    <tr>\n",
       "      <th>2</th>\n",
       "      <td>0.019</td>\n",
       "      <td>-0.02</td>\n",
       "    </tr>\n",
       "    <tr>\n",
       "      <th>3</th>\n",
       "      <td>0.029</td>\n",
       "      <td>-0.03</td>\n",
       "    </tr>\n",
       "    <tr>\n",
       "      <th>4</th>\n",
       "      <td>0.039</td>\n",
       "      <td>-0.01</td>\n",
       "    </tr>\n",
       "  </tbody>\n",
       "</table>\n",
       "</div>"
      ],
      "text/plain": [
       "    time     z\n",
       "0  0.011 -0.01\n",
       "1  0.012 -0.01\n",
       "2  0.019 -0.02\n",
       "3  0.029 -0.03\n",
       "4  0.039 -0.01"
      ]
     },
     "execution_count": 11,
     "metadata": {},
     "output_type": "execute_result"
    }
   ],
   "source": [
    "df_with = pd.read_csv('up_with.csv')[['time', 'z']]\n",
    "df_without = pd.read_csv('up_without.csv')[['time', 'z']]\n",
    "df_down = pd.read_csv('down.csv')[['time', 'z']]\n",
    "df_without.head()"
   ]
  },
  {
   "cell_type": "code",
   "execution_count": null,
   "metadata": {
    "collapsed": false
   },
   "outputs": [],
   "source": []
  },
  {
   "cell_type": "code",
   "execution_count": 12,
   "metadata": {
    "collapsed": false
   },
   "outputs": [
    {
     "data": {
      "text/html": [
       "<iframe id=\"igraph\" scrolling=\"no\" style=\"border:none;\" seamless=\"seamless\" src=\"https://plot.ly/~murtaza64/151.embed\" height=\"525px\" width=\"100%\"></iframe>"
      ],
      "text/plain": [
       "<plotly.tools.PlotlyDisplay object>"
      ]
     },
     "execution_count": 12,
     "metadata": {},
     "output_type": "execute_result"
    }
   ],
   "source": [
    "df_with['z'] = df_with['z'] - df_with.query('1 <= time <= 4')['z'].mean()\n",
    "graph_single('acceleration in elevator two with two people inside', df_with, \\\n",
    "             'time', 'z', 'time (s)', 'acceleration (ms^-2)')"
   ]
  },
  {
   "cell_type": "code",
   "execution_count": 13,
   "metadata": {
    "collapsed": false,
    "scrolled": false
   },
   "outputs": [
    {
     "data": {
      "text/html": [
       "<iframe id=\"igraph\" scrolling=\"no\" style=\"border:none;\" seamless=\"seamless\" src=\"https://plot.ly/~murtaza64/153.embed\" height=\"525px\" width=\"100%\"></iframe>"
      ],
      "text/plain": [
       "<plotly.tools.PlotlyDisplay object>"
      ]
     },
     "execution_count": 13,
     "metadata": {},
     "output_type": "execute_result"
    }
   ],
   "source": [
    "df_without['z'] = df_without['z'] - df_without.query('5 <= time <= 10')['z'].mean()\n",
    "graph_single('acceleration in empty elevator', df_without, \\\n",
    "             'time', 'z', 'time (s)', 'acceleration (ms^-2)')"
   ]
  },
  {
   "cell_type": "code",
   "execution_count": 14,
   "metadata": {
    "collapsed": false
   },
   "outputs": [
    {
     "data": {
      "text/html": [
       "<iframe id=\"igraph\" scrolling=\"no\" style=\"border:none;\" seamless=\"seamless\" src=\"https://plot.ly/~murtaza64/155.embed\" height=\"525px\" width=\"100%\"></iframe>"
      ],
      "text/plain": [
       "<plotly.tools.PlotlyDisplay object>"
      ]
     },
     "execution_count": 14,
     "metadata": {},
     "output_type": "execute_result"
    }
   ],
   "source": [
    "df_down['z'] = df_down['z'] - df_down.query('0.1 <= time <= 2')['z'].mean()\n",
    "graph_single('acceleration in downward travelling elevator', df_down, \\\n",
    "             'time', 'z', 'time (s)', 'acceleration (ms^-2)')"
   ]
  },
  {
   "cell_type": "code",
   "execution_count": 15,
   "metadata": {
    "collapsed": false
   },
   "outputs": [],
   "source": [
    "df_without = df_without.query('11.93 <= time <= 21.23')\n",
    "df_without['time'] = df_without['time'] - 11.93\n",
    "\n",
    "df_with = df_with.query('5.43 <= time <= 13.63')\n",
    "df_with['time'] = df_with['time'] - 5.43\n",
    "\n",
    "df_down = df_down.query('2.43 <= time <= 10.80')\n",
    "df_down['time'] = df_down['time'] - 2.43\n",
    "\n",
    "for d in [df_with, df_without, df_down]:\n",
    "    d['velocity'] = (d['time'].diff().fillna(0) * d['z']).cumsum()"
   ]
  },
  {
   "cell_type": "code",
   "execution_count": 16,
   "metadata": {
    "collapsed": false
   },
   "outputs": [
    {
     "data": {
      "text/html": [
       "<iframe id=\"igraph\" scrolling=\"no\" style=\"border:none;\" seamless=\"seamless\" src=\"https://plot.ly/~murtaza64/157.embed\" height=\"525px\" width=\"100%\"></iframe>"
      ],
      "text/plain": [
       "<plotly.tools.PlotlyDisplay object>"
      ]
     },
     "execution_count": 16,
     "metadata": {},
     "output_type": "execute_result"
    }
   ],
   "source": [
    "data = [\n",
    "    go.Scatter(\n",
    "        x = df_with['time'],\n",
    "        y = df_with['z'],\n",
    "        name = 'up with people'\n",
    "    ),\n",
    "    go.Scatter(\n",
    "        x = df_without['time'],\n",
    "        y = df_without['z'],\n",
    "        name = 'up without people'\n",
    "    ),\n",
    "    go.Scatter(\n",
    "        x = df_down['time'],\n",
    "        y = df_down['z'],\n",
    "        name = 'down'\n",
    "    ),\n",
    "]\n",
    "\n",
    "layout = go.Layout(\n",
    "    title = 'acceleration in elevator against time',\n",
    "    yaxis = dict(title = 'acceleration (ms^-2)'),\n",
    "    xaxis = dict(title = 'time (s)')\n",
    ")\n",
    "\n",
    "fig = go.Figure(data = data, layout = layout)\n",
    "py.iplot(fig)"
   ]
  },
  {
   "cell_type": "code",
   "execution_count": 17,
   "metadata": {
    "collapsed": false
   },
   "outputs": [
    {
     "data": {
      "text/html": [
       "<iframe id=\"igraph\" scrolling=\"no\" style=\"border:none;\" seamless=\"seamless\" src=\"https://plot.ly/~murtaza64/159.embed\" height=\"525px\" width=\"100%\"></iframe>"
      ],
      "text/plain": [
       "<plotly.tools.PlotlyDisplay object>"
      ]
     },
     "execution_count": 17,
     "metadata": {},
     "output_type": "execute_result"
    }
   ],
   "source": [
    "data = [\n",
    "    go.Scatter(\n",
    "        x = df_with['time'],\n",
    "        y = df_with['velocity'],\n",
    "        name = 'up with people'\n",
    "    ),\n",
    "    go.Scatter(\n",
    "        x = df_without['time'],\n",
    "        y = df_without['velocity'],\n",
    "        name = 'up without people'\n",
    "    ),\n",
    "    go.Scatter(\n",
    "        x = df_down['time'],\n",
    "        y = df_down['velocity'],\n",
    "        name = 'down'\n",
    "    ),\n",
    "]\n",
    "\n",
    "layout = go.Layout(\n",
    "    title = 'velocity in elevator against time',\n",
    "    yaxis = dict(title = 'velocity (ms^-1)'),\n",
    "    xaxis = dict(title = 'time (s)')\n",
    ")\n",
    "\n",
    "fig = go.Figure(data = data, layout = layout)\n",
    "py.iplot(fig)"
   ]
  }
 ],
 "metadata": {
  "kernelspec": {
   "display_name": "Python 3",
   "language": "python",
   "name": "python3"
  },
  "language_info": {
   "codemirror_mode": {
    "name": "ipython",
    "version": 3
   },
   "file_extension": ".py",
   "mimetype": "text/x-python",
   "name": "python",
   "nbconvert_exporter": "python",
   "pygments_lexer": "ipython3",
   "version": "3.5.1"
  }
 },
 "nbformat": 4,
 "nbformat_minor": 1
}
